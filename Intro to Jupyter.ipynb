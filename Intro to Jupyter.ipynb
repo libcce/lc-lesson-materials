{
 "cells": [
  {
   "cell_type": "markdown",
   "metadata": {},
   "source": [
    "# How Jupyter is used\n",
    "\n",
    "Rule, Adam, Aurélien Tabard, and James D. Hollan. \"[Exploration and Explanation in Computational Notebooks.](http://adamrule.com/files/papers/chi_2018_computational_notebooks_final_web.pdf)\" Proceedings of the 2018 CHI Conference on Human Factors in Computing Systems. ACM, 2018.\n",
    "\n",
    "\n",
    "**ABSTRACT**   \n",
    "Computational notebooks combine code, visualizations, and\n",
    "text in a single document. Researchers, data analysts, and\n",
    "even journalists are rapidly adopting this new medium. We\n",
    "present three studies of how they are using notebooks to\n",
    "document and share exploratory data analyses. In the first,\n",
    "we analyzed over 1 million computational notebooks on\n",
    "GitHub, finding that one in four had no explanatory text but\n",
    "consisted entirely of visualizations or code. In a second\n",
    "study, we examined over 200 academic computational\n",
    "notebooks, finding that although the vast majority described\n",
    "methods, only a minority discussed reasoning or results. In\n",
    "a third study, we interviewed 15 academic data analysts,\n",
    "finding that most considered computational notebooks personal,\n",
    "exploratory, and messy. Importantly, they typically\n",
    "used other media to share analyses. These studies demonstrate\n",
    "a tension between exploration and explanation in\n",
    "constructing and sharing computational notebooks. We\n",
    "conclude with opportunities to encourage explanation in\n",
    "computational media without hindering exploration"
   ]
  },
  {
   "cell_type": "markdown",
   "metadata": {},
   "source": [
    "# Markdown examples"
   ]
  },
  {
   "cell_type": "markdown",
   "metadata": {},
   "source": [
    "# h1\n",
    "## h2\n",
    "\n",
    "Paragraphs are separated by a blank line.\n",
    "\n",
    "2nd paragraph. *Italic*, **bold**, and `monospace`. Itemized lists\n",
    "look like:\n",
    "\n",
    "  * this one\n",
    "  * that one\n",
    "  * the other one\n",
    "  \n",
    "Here's a numbered list:\n",
    "\n",
    " 1. first item\n",
    " 2. second item\n",
    " 3. third item\n",
    "\n",
    "> Block quotes are\n",
    "> written like so.\n",
    ">\n",
    "> They can span multiple paragraphs,\n",
    "> if you like.\n",
    "\n",
    "~~~\n",
    "define foobar() {\n",
    "    print \"Welcome to flavor country!\";\n",
    "}\n",
    "~~~\n",
    " \n",
    "Here's a link to [a website](http://foo.bar), to a [local\n",
    "doc](local-doc.html), and to a [section heading in the current\n",
    "doc](#an-h2-header). Here's a footnote [^1].\n",
    "\n",
    "[^1]: Some footnote text.\n",
    "\n",
    "![example image](https://pre00.deviantart.net/0e25/th/pre/i/2012/232/0/a/welcome_to_the_internet__please_follow_me_by_sharpwriter-d5buwfu.jpg \"An exemplary image\")\n",
    "\n",
    "Inline math equation: $\\omega = d\\phi / dt$. Display\n",
    "math should get its own line like so:\n",
    "\n",
    "$$I = \\int \\rho R^{2} dV$$\n",
    "\n",
    "\n",
    "| Column1 | Column2 |\n",
    "|---------|---------|\n",
    "| 1       | a       |\n",
    "| 2       | b       |\n",
    "| 3       | c       |\n"
   ]
  },
  {
   "cell_type": "code",
   "execution_count": 3,
   "metadata": {},
   "outputs": [
    {
     "data": {
      "text/plain": [
       "'Hello, Tim!'"
      ]
     },
     "execution_count": 3,
     "metadata": {},
     "output_type": "execute_result"
    }
   ],
   "source": [
    "def say_hello(recipient):\n",
    "    return 'Hello, {}!'.format(recipient)\n",
    "\n",
    "say_hello('Tim')"
   ]
  },
  {
   "cell_type": "markdown",
   "metadata": {},
   "source": [
    "# Further reading\n",
    "[Jupyter Notebook Tutorial](https://www.dataquest.io/blog/jupyter-notebook-tutorial/)"
   ]
  },
  {
   "cell_type": "code",
   "execution_count": null,
   "metadata": {},
   "outputs": [],
   "source": []
  }
 ],
 "metadata": {
  "kernelspec": {
   "display_name": "Python 3",
   "language": "python",
   "name": "python3"
  },
  "language_info": {
   "codemirror_mode": {
    "name": "ipython",
    "version": 3
   },
   "file_extension": ".py",
   "mimetype": "text/x-python",
   "name": "python",
   "nbconvert_exporter": "python",
   "pygments_lexer": "ipython3",
   "version": "3.6.4"
  }
 },
 "nbformat": 4,
 "nbformat_minor": 2
}

{
 "cells": [
  {
   "cell_type": "markdown",
   "metadata": {},
   "source": [
    "# Library of Congress MODS Exercise"
   ]
  },
  {
   "cell_type": "markdown",
   "metadata": {},
   "source": [
    "## Lesson Outline\n",
    "* What is XML?\n",
    "* Introduction to BeautifulSoup\n",
    "* Parse MODS XML with BeautifulSoup\n",
    "* Loop through directory of XML files\n",
    "* Find and replace in XML files\n",
    "* Introduction to ElementTree \n",
    "* Learn how to explore XML using functions, loops, XPath"
   ]
  },
  {
   "cell_type": "markdown",
   "metadata": {},
   "source": [
    "## What is XML?\n",
    "* Let's briefly desscribe what it is.\n",
    "* Let's look at an example."
   ]
  },
  {
   "cell_type": "code",
   "execution_count": 232,
   "metadata": {
    "scrolled": true
   },
   "outputs": [
    {
     "name": "stdout",
     "output_type": "stream",
     "text": [
      "<?xml version=\"1.0\" encoding=\"utf-8\"?>\n",
      "<mods version=\"3.4\" xmlns=\"httpss://www.loc.gov/mods/v3\" xmlns:xlink=\"httpss://www.w3.org/1999/xlink\" xmlns:xsi=\"httpss://www.w3.org/2001/XMLSchema-instance\" xsi:schemaLocation=\"httpss://www.loc.gov/mods/v3 httpss://www.loc.gov/standards/mods/v3/mods-3-4.xsd\">\n",
      " <identifier>\n",
      "  lcwaN00 USA\\\n",
      " </identifier>\n",
      " <identifier invalid=\"yes\" type=\"database id\">\n",
      "  USA\\\n",
      " </identifier>\n",
      " <titleInfo>\n",
      "  <title>\n",
      "   Intel Dump - Blog\n",
      "  </title>\n",
      " </titleInfo>\n",
      " <language>\n",
      "  <languageTerm authority=\"iso639-2b\" type=\"code\">\n",
      "   eng\n",
      "  </languageTerm>\n",
      " </language>\n",
      " <physicalDescription>\n",
      "  <form authority=\"marcform\">\n",
      "   electronic\n",
      "  </form>\n",
      "  <internetMediaType>\n",
      "   text/html\n",
      "  </internetMediaType>\n",
      "  <digitalOrigin>\n",
      "   born digital\n",
      "  </digitalOrigin>\n",
      " </physicalDescription>\n",
      " <targetAudience>\n",
      "  general\n",
      " </targetAudience>\n",
      " <typeOfResource>\n",
      "  text\n",
      " </typeOfResource>\n",
      " <genre authority=\"marcgt\">\n",
      "  web site\n",
      " </genre>\n",
      " <originInfo>\n",
      "  <place>\n",
      "   <placeTerm type=\"text\">\n",
      "    United States\n",
      "   </placeTerm>\n",
      "  </place>\n",
      " </originInfo>\n",
      " <abstract/>\n",
      " <relatedItem type=\"host\">\n",
      "  <titleInfo>\n",
      "   <title>\n",
      "    Iraq War 2003 Web Archive\n",
      "   </title>\n",
      "  </titleInfo>\n",
      " </relatedItem>\n",
      " <relatedItem type=\"host\">\n",
      "  <titleInfo>\n",
      "   <title>\n",
      "    Research and Reference Services Division\n",
      "   </title>\n",
      "  </titleInfo>\n",
      " </relatedItem>\n",
      " <relatedItem displayLabel=\"URL\" type=\"constituent\">\n",
      "  <identifier displayLabel=\"Access URL\" type=\"uri\">\n",
      "   httpss://www.intel-dump.com/\n",
      "  </identifier>\n",
      "  <identifier type=\"database id\">\n",
      "   USA\\\n",
      "  </identifier>\n",
      "  <location>\n",
      "   <url displayLabel=\"thumbnail image\">\n",
      "    httpss://cdn.loc.gov/service/webcapture/project_1/thumbnails/lcwaS0017477.jpg\n",
      "   </url>\n",
      "  </location>\n",
      " </relatedItem>\n",
      " <location>\n",
      "  <url displayLabel=\"Archived site\">\n",
      "   httpss://www.loc.gov/item/lcwaN00 USA\\\n",
      "  </url>\n",
      " </location>\n",
      " <location>\n",
      "  <physicalLocation>\n",
      "   Library of Congress, Washington, D.C., 20540 USA\n",
      "  </physicalLocation>\n",
      "  <physicalLocation authority=\"marcorg\">\n",
      "   dlc\n",
      "  </physicalLocation>\n",
      " </location>\n",
      " <accessCondition type=\"restrictionOnAccess\">\n",
      "  None\n",
      " </accessCondition>\n",
      " <recordInfo>\n",
      "  <recordContentSource authority=\"marcorg\">\n",
      "   dlc\n",
      "  </recordContentSource>\n",
      "  <recordCreationDate encoding=\"iso8601\">\n",
      "   201 USA\\\n",
      "  </recordCreationDate>\n",
      "  <recordIdentifier source=\"dlc\">\n",
      "   lcwaN00 USA\\\n",
      "  </recordIdentifier>\n",
      "  <languageOfCataloging>\n",
      "   <languageTerm authority=\"iso639-2b\" type=\"code\">\n",
      "    eng\n",
      "   </languageTerm>\n",
      "  </languageOfCataloging>\n",
      " </recordInfo>\n",
      "</mods>\n"
     ]
    }
   ],
   "source": [
    "## let's view a MODS XML file\n",
    "## open file, read string into xml, import BeautifulSoup, print XML using prettify, close\n",
    "## more on BeautifulSouop https://www.crummy.com/software/BeautifulSoup/\n",
    "file = open('MODS/lcwaN0012195.xml', 'r')\n",
    "xml = file.read()\n",
    "from bs4 import BeautifulSoup\n",
    "print(BeautifulSoup(xml, \"xml\").prettify())\n",
    "file.close()"
   ]
  },
  {
   "cell_type": "markdown",
   "metadata": {},
   "source": [
    "## What is BeautifulSoup\n",
    "[Beautiful Soup](https://www.crummy.com/software/BeautifulSoup/bs4/doc/) is a Python package for parsing HTML and XML documents. It creates a parse tree for parsed pages that can be used to extract data from HTML, which is useful for web scraping. It's also a widely used package, so many tutorials and examples are available. For instance, the Programming Historian has a lesson:\n",
    "https://programminghistorian.org/en/lessons/intro-to-beautiful-soup\n",
    "\n",
    "Let's use it to parse XML..."
   ]
  },
  {
   "cell_type": "code",
   "execution_count": 218,
   "metadata": {},
   "outputs": [
    {
     "name": "stdout",
     "output_type": "stream",
     "text": [
      "Intel Dump - Blog\n",
      "Iraq War 2003 Web Archive\n",
      "Research and Reference Services Division\n"
     ]
    }
   ],
   "source": [
    "## import BeautifulSoup, open and read XML file, use BeautifulSoup to final all title text\n",
    "from bs4 import BeautifulSoup\n",
    "infile = open(\"MODS/lcwaN0012195.xml\",\"r\")\n",
    "contents = infile.read()\n",
    "soup = BeautifulSoup(contents,'xml')\n",
    "titles = soup.find_all('title')\n",
    "for title in titles:\n",
    "    print(title.get_text())"
   ]
  },
  {
   "cell_type": "markdown",
   "metadata": {},
   "source": [
    "## Exercises\n",
    "* Print only the first title from the array returned by 'titles = soup.find_all('title')'.\n",
    "* Use the script above to parse for text from other elements.\n",
    "* Can you use the same script to get the text for element attributes? Try 'languageTerm' and 'authority'.\n",
    "* Extra credit: Can you use the same script to search by a particular attribute value? Try 'languageTerm' and 'authority' again and 'iso639-2b'."
   ]
  },
  {
   "cell_type": "code",
   "execution_count": null,
   "metadata": {},
   "outputs": [],
   "source": []
  },
  {
   "cell_type": "markdown",
   "metadata": {},
   "source": [
    "## Loop through directory of XML files"
   ]
  },
  {
   "cell_type": "code",
   "execution_count": 220,
   "metadata": {},
   "outputs": [
    {
     "name": "stdout",
     "output_type": "stream",
     "text": [
      "lcwaN0009700.xml YTMND: You're the man now dog!\n",
      "lcwaN0003238.xml Huffington Post\n",
      "lcwaN0010888.xml Cute Overload! ;)\n",
      "lcwaE0008001.xml Official Campaign Web Site - Scott J. Barnhart\n",
      "lcwaN0012195.xml Intel Dump - Blog\n",
      "lcwaE0008338.xml Official Campaign Web Site - Danny Page\n",
      "lcwaE0008846.xml Official Campaign Web Site - Gregory John Orman\n",
      "lcwaN0010226.xml Homepage | Meme Generator\n",
      "lcwaE0008918.xml Official Campaign Web Site - C. Salekin\n",
      "lcwaN0010144.xml BuzzFeed\n",
      "lcwaN0010145.xml Drudge Report\n",
      "lcwaN0012178.xml Life in this Girl's Army / New Lives - Blog\n",
      "lcwaE0008263.xml Official Campaign Web Site - Joan Elizabeth Farr\n",
      "lcwaN0012179.xml Sgt. Missick, A Line In The Sand - Blog\n",
      "lcwaN0012184.xml Doc in the Box - Blog\n",
      "lcwaN0010234.xml Slate Magazine\n",
      "lcwaN0010401.xml Metafilter | Community Weblog\n",
      "lcwaN0010940.xml Sri Lanka Guardian\n",
      "lcwa00097019.xml PMDB : O PARTIDO DO BRASIL\n",
      "lcwaN0010933.xml Tamil National Alliance (TNA) - Sri Lanka\n",
      "lcwaN0010932.xml Official Campaign Web Site - Maithripala Sirisena\n",
      "lcwaN0010936.xml Rajiva Wijesinha Blog - Sri Lanka\n",
      "lcwaN0001999.xml Raw Story\n",
      "lcwaN0009692.xml Internet Meme Database | Know Your Meme\n",
      "lcwaN0010937.xml Liberal Party of Sri Lanka\n"
     ]
    }
   ],
   "source": [
    "## import operating system interface, BeautifulSoup, set path to files, loop through directory\n",
    "## conditional for .xml, join path and filename, open and read XML file with BeautifulSoup\n",
    "## find all titles in file but only print first title\n",
    "import os\n",
    "from bs4 import BeautifulSoup\n",
    "\n",
    "path = 'MODS'\n",
    "for filename in os.listdir(path):\n",
    "    if filename.endswith('.xml'): \n",
    "        fullname = os.path.join(path, filename)\n",
    "        infile = open(fullname,\"r\")\n",
    "        contents = infile.read()\n",
    "        soup = BeautifulSoup(contents,'xml')\n",
    "        titles = soup.find_all('title')\n",
    "        print(filename, titles[0].get_text())"
   ]
  },
  {
   "cell_type": "markdown",
   "metadata": {},
   "source": [
    "## Exercises\n",
    "* Use the script above to return one or two more elements from each XML file.\n",
    "* Now save the list of elements returned as a CSV file."
   ]
  },
  {
   "cell_type": "code",
   "execution_count": null,
   "metadata": {},
   "outputs": [],
   "source": []
  },
  {
   "cell_type": "markdown",
   "metadata": {},
   "source": [
    "## Find and replace in XML files"
   ]
  },
  {
   "cell_type": "code",
   "execution_count": 227,
   "metadata": {},
   "outputs": [],
   "source": [
    "import os\n",
    "from bs4 import BeautifulSoup\n",
    "import re\n",
    "\n",
    "path = 'MODS'\n",
    "for filename in os.listdir(path):\n",
    "    if filename.endswith('.xml'): \n",
    "        fullname = os.path.join(path, filename)\n",
    "        infile = open(fullname,\"r\")\n",
    "        contents = infile.read()\n",
    "        filedata = contents.replace('http', 'https')\n",
    "        outfile = open(fullname, 'w')\n",
    "        outfile.write(filedata)"
   ]
  },
  {
   "cell_type": "markdown",
   "metadata": {},
   "source": [
    "## Exercise & Question\n",
    "* Add 'USA' in 'physicalLocation' if it is missing from the address.\n",
    "* Can you use something like what we have been exploring in your work?"
   ]
  },
  {
   "cell_type": "code",
   "execution_count": null,
   "metadata": {},
   "outputs": [],
   "source": []
  },
  {
   "cell_type": "markdown",
   "metadata": {},
   "source": [
    "## More on BeautifulSoup, Searching, and Modifying XML\n",
    "https://code.tutsplus.com/tutorials/scraping-webpages-in-python-with-beautiful-soup-search-and-dom-modification--cms-28276"
   ]
  },
  {
   "cell_type": "markdown",
   "metadata": {},
   "source": [
    "## Intro to ElementTree\n",
    "Since XML is structured, you can work with it programmatically. Python has a built in library called ElementTree which has functions that allow you to work with XML. Let's look at the Python documentation for [ElementTree](https://docs.python.org/2/library/xml.etree.elementtree.html)."
   ]
  },
  {
   "cell_type": "code",
   "execution_count": 223,
   "metadata": {},
   "outputs": [],
   "source": [
    "## import package and give it an alias\n",
    "import xml.etree.ElementTree as ET"
   ]
  },
  {
   "cell_type": "code",
   "execution_count": 224,
   "metadata": {},
   "outputs": [
    {
     "data": {
      "text/plain": [
       "'{http://www.loc.gov/mods/v3}mods'"
      ]
     },
     "execution_count": 224,
     "metadata": {},
     "output_type": "execute_result"
    }
   ],
   "source": [
    "## get the root element tag\n",
    "etree = ET.parse('MODS/lcwaN0012195.xml')\n",
    "root = etree.getroot()\n",
    "root.tag\n",
    "## now try the attribute"
   ]
  },
  {
   "cell_type": "code",
   "execution_count": 42,
   "metadata": {
    "scrolled": true
   },
   "outputs": [
    {
     "name": "stdout",
     "output_type": "stream",
     "text": [
      "{http://www.loc.gov/mods/v3}identifier {}\n",
      "{http://www.loc.gov/mods/v3}identifier {'invalid': 'yes', 'type': 'database id'}\n",
      "{http://www.loc.gov/mods/v3}titleInfo {}\n",
      "{http://www.loc.gov/mods/v3}language {}\n",
      "{http://www.loc.gov/mods/v3}physicalDescription {}\n",
      "{http://www.loc.gov/mods/v3}targetAudience {}\n",
      "{http://www.loc.gov/mods/v3}typeOfResource {}\n",
      "{http://www.loc.gov/mods/v3}genre {'authority': 'marcgt'}\n",
      "{http://www.loc.gov/mods/v3}originInfo {}\n",
      "{http://www.loc.gov/mods/v3}abstract {}\n",
      "{http://www.loc.gov/mods/v3}relatedItem {'type': 'host'}\n",
      "{http://www.loc.gov/mods/v3}relatedItem {'type': 'host'}\n",
      "{http://www.loc.gov/mods/v3}relatedItem {'displayLabel': 'URL', 'type': 'constituent'}\n",
      "{http://www.loc.gov/mods/v3}location {}\n",
      "{http://www.loc.gov/mods/v3}location {}\n",
      "{http://www.loc.gov/mods/v3}accessCondition {'type': 'restrictionOnAccess'}\n",
      "{http://www.loc.gov/mods/v3}recordInfo {}\n"
     ]
    }
   ],
   "source": [
    "## try looping through the children\n",
    "for child in root:\n",
    "    print(child.tag, child.attrib)"
   ]
  },
  {
   "cell_type": "code",
   "execution_count": 158,
   "metadata": {},
   "outputs": [
    {
     "name": "stdout",
     "output_type": "stream",
     "text": [
      "{http://www.loc.gov/mods/v3}mods\n",
      "{http://www.loc.gov/mods/v3}identifier\n",
      "{http://www.loc.gov/mods/v3}identifier\n",
      "{http://www.loc.gov/mods/v3}titleInfo\n",
      "{http://www.loc.gov/mods/v3}title\n",
      "{http://www.loc.gov/mods/v3}language\n",
      "{http://www.loc.gov/mods/v3}languageTerm\n",
      "{http://www.loc.gov/mods/v3}physicalDescription\n",
      "{http://www.loc.gov/mods/v3}form\n",
      "{http://www.loc.gov/mods/v3}internetMediaType\n",
      "{http://www.loc.gov/mods/v3}digitalOrigin\n",
      "{http://www.loc.gov/mods/v3}targetAudience\n",
      "{http://www.loc.gov/mods/v3}typeOfResource\n",
      "{http://www.loc.gov/mods/v3}genre\n",
      "{http://www.loc.gov/mods/v3}originInfo\n",
      "{http://www.loc.gov/mods/v3}place\n",
      "{http://www.loc.gov/mods/v3}placeTerm\n",
      "{http://www.loc.gov/mods/v3}abstract\n",
      "{http://www.loc.gov/mods/v3}relatedItem\n",
      "{http://www.loc.gov/mods/v3}titleInfo\n",
      "{http://www.loc.gov/mods/v3}title\n",
      "{http://www.loc.gov/mods/v3}relatedItem\n",
      "{http://www.loc.gov/mods/v3}titleInfo\n",
      "{http://www.loc.gov/mods/v3}title\n",
      "{http://www.loc.gov/mods/v3}relatedItem\n",
      "{http://www.loc.gov/mods/v3}identifier\n",
      "{http://www.loc.gov/mods/v3}identifier\n",
      "{http://www.loc.gov/mods/v3}location\n",
      "{http://www.loc.gov/mods/v3}url\n",
      "{http://www.loc.gov/mods/v3}location\n",
      "{http://www.loc.gov/mods/v3}url\n",
      "{http://www.loc.gov/mods/v3}location\n",
      "{http://www.loc.gov/mods/v3}physicalLocation\n",
      "{http://www.loc.gov/mods/v3}physicalLocation\n",
      "{http://www.loc.gov/mods/v3}accessCondition\n",
      "{http://www.loc.gov/mods/v3}recordInfo\n",
      "{http://www.loc.gov/mods/v3}recordContentSource\n",
      "{http://www.loc.gov/mods/v3}recordCreationDate\n",
      "{http://www.loc.gov/mods/v3}recordIdentifier\n",
      "{http://www.loc.gov/mods/v3}languageOfCataloging\n",
      "{http://www.loc.gov/mods/v3}languageTerm\n"
     ]
    }
   ],
   "source": [
    "## iterate through all the children or subelements\n",
    "for elem in root.iter():\n",
    "    print(elem.tag)\n",
    "    ## try to get the text from each element as well"
   ]
  },
  {
   "cell_type": "code",
   "execution_count": 159,
   "metadata": {},
   "outputs": [
    {
     "name": "stdout",
     "output_type": "stream",
     "text": [
      "http://cdn.loc.gov/service/webcapture/project_1/thumbnails/lcwaS0017477.jpg\n",
      "http://www.loc.gov/item/lcwaN0012195\n"
     ]
    }
   ],
   "source": [
    "for url in root.iter('{http://www.loc.gov/mods/v3}url'):\n",
    "    print(url.text)\n",
    "## try another child element and print out the tag, attrib, text"
   ]
  },
  {
   "cell_type": "code",
   "execution_count": 169,
   "metadata": {},
   "outputs": [
    {
     "name": "stdout",
     "output_type": "stream",
     "text": [
      "Intel Dump - Blog\n",
      "Iraq War 2003 Web Archive\n",
      "Research and Reference Services Division\n"
     ]
    }
   ],
   "source": [
    "nspace = 'http://www.loc.gov/mods/v3'\n",
    "ns = {'mods' : nspace}\n",
    "\n",
    "for titleInfo in root.findall('.//mods:titleInfo/mods:title', namespaces=ns): \n",
    "    element = titleInfo\n",
    "    print(element.text)"
   ]
  },
  {
   "cell_type": "code",
   "execution_count": 178,
   "metadata": {},
   "outputs": [
    {
     "name": "stdout",
     "output_type": "stream",
     "text": [
      "{http://www.loc.gov/mods/v3}identifier {}\n",
      "{http://www.loc.gov/mods/v3}identifier {'invalid': 'yes', 'type': 'database id'}\n",
      "{http://www.loc.gov/mods/v3}titleInfo {}\n",
      "{http://www.loc.gov/mods/v3}language {}\n",
      "{http://www.loc.gov/mods/v3}physicalDescription {}\n",
      "{http://www.loc.gov/mods/v3}targetAudience {}\n",
      "{http://www.loc.gov/mods/v3}typeOfResource {}\n",
      "{http://www.loc.gov/mods/v3}genre {'authority': 'marcgt'}\n",
      "{http://www.loc.gov/mods/v3}originInfo {}\n",
      "{http://www.loc.gov/mods/v3}abstract {}\n",
      "{http://www.loc.gov/mods/v3}relatedItem {'type': 'host'}\n",
      "{http://www.loc.gov/mods/v3}relatedItem {'type': 'host'}\n",
      "{http://www.loc.gov/mods/v3}relatedItem {'displayLabel': 'URL', 'type': 'constituent'}\n",
      "{http://www.loc.gov/mods/v3}location {}\n",
      "{http://www.loc.gov/mods/v3}location {}\n",
      "{http://www.loc.gov/mods/v3}accessCondition {'type': 'restrictionOnAccess'}\n",
      "{http://www.loc.gov/mods/v3}recordInfo {}\n"
     ]
    }
   ],
   "source": [
    "for child_of_root in root:\n",
    "    print(child_of_root.tag, child_of_root.attrib)"
   ]
  },
  {
   "cell_type": "code",
   "execution_count": 188,
   "metadata": {},
   "outputs": [
    {
     "name": "stdout",
     "output_type": "stream",
     "text": [
      "{http://www.loc.gov/mods/v3}targetAudience general\n"
     ]
    }
   ],
   "source": [
    "print(root[5].tag, root[5].text)"
   ]
  },
  {
   "cell_type": "markdown",
   "metadata": {},
   "source": [
    "**Interacting with MODS using ElementTree:**  \n",
    "https://github.com/morskyjezek/LCWA-MODS/blob/master/Pulling-from-LCWA-MODS.ipynb  \n",
    "https://github.com/morskyjezek/LCWA-MODS/blob/master/Get-Some-LC-Web-Archive-MODs.ipynb  \n",
    "\n",
    "**Python XML with ElementTree: Beginner's Guide:**  \n",
    "https://www.datacamp.com/community/tutorials/python-xml-elementtree\n",
    "\n",
    "**Parsing Wikipedia XML**  \n",
    "https://www.heatonresearch.com/2017/03/03/python-basic-wikipedia-parsing.html\n",
    "\n",
    "**Webscraping:**  \n",
    "https://librarycarpentry.github.io/lc-webscraping/02-xpath/index.html\n",
    "\n",
    "**Requests tutorial:**  \n",
    "https://www.dataquest.io/blog/python-api-tutorial/"
   ]
  },
  {
   "cell_type": "code",
   "execution_count": null,
   "metadata": {},
   "outputs": [],
   "source": []
  }
 ],
 "metadata": {
  "kernelspec": {
   "display_name": "Python 3",
   "language": "python",
   "name": "python3"
  },
  "language_info": {
   "codemirror_mode": {
    "name": "ipython",
    "version": 3
   },
   "file_extension": ".py",
   "mimetype": "text/x-python",
   "name": "python",
   "nbconvert_exporter": "python",
   "pygments_lexer": "ipython3",
   "version": "3.6.4"
  }
 },
 "nbformat": 4,
 "nbformat_minor": 2
}

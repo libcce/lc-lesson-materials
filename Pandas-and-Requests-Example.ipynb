{
 "cells": [
  {
   "cell_type": "code",
   "execution_count": 24,
   "metadata": {},
   "outputs": [],
   "source": [
    "import pandas as pd"
   ]
  },
  {
   "cell_type": "code",
   "execution_count": 25,
   "metadata": {},
   "outputs": [],
   "source": [
    "# Read csv into pandas - CrossRef example from OpenRefine lesson\n",
    "data = pandas.read_csv(\"https://raw.githubusercontent.com/LibraryCarpentry/lc-open-refine/gh-pages/data/doaj-article-sample.csv\")"
   ]
  },
  {
   "cell_type": "code",
   "execution_count": 26,
   "metadata": {},
   "outputs": [
    {
     "data": {
      "text/html": [
       "<div>\n",
       "<style scoped>\n",
       "    .dataframe tbody tr th:only-of-type {\n",
       "        vertical-align: middle;\n",
       "    }\n",
       "\n",
       "    .dataframe tbody tr th {\n",
       "        vertical-align: top;\n",
       "    }\n",
       "\n",
       "    .dataframe thead th {\n",
       "        text-align: right;\n",
       "    }\n",
       "</style>\n",
       "<table border=\"1\" class=\"dataframe\">\n",
       "  <thead>\n",
       "    <tr style=\"text-align: right;\">\n",
       "      <th></th>\n",
       "      <th>Title</th>\n",
       "      <th>Authors</th>\n",
       "      <th>DOI</th>\n",
       "      <th>URL</th>\n",
       "      <th>Date</th>\n",
       "      <th>Language</th>\n",
       "      <th>Subjects</th>\n",
       "      <th>ISSNs</th>\n",
       "      <th>Publisher</th>\n",
       "      <th>Citation</th>\n",
       "      <th>Licence</th>\n",
       "    </tr>\n",
       "  </thead>\n",
       "  <tbody>\n",
       "    <tr>\n",
       "      <th>0</th>\n",
       "      <td>The Fisher Thermodynamics of Quasi-Probabilities</td>\n",
       "      <td>Flavia Pennini|Angelo Plastino</td>\n",
       "      <td>10.3390/e17127853</td>\n",
       "      <td>https://doaj.org/article/b75e8d5cca3f46cbbd63e...</td>\n",
       "      <td>01/11/2015</td>\n",
       "      <td>English</td>\n",
       "      <td>Fisher information|quasi-probabilities|complem...</td>\n",
       "      <td>1099-4300</td>\n",
       "      <td>MDPI AG</td>\n",
       "      <td>Entropy, Vol 17, Iss 12, Pp 7848-7858 (2015)</td>\n",
       "      <td>CC BY</td>\n",
       "    </tr>\n",
       "    <tr>\n",
       "      <th>1</th>\n",
       "      <td>Aflatoxin Contamination of the Milk Supply: A ...</td>\n",
       "      <td>Naveed Aslam|Peter C. Wynn</td>\n",
       "      <td>10.3390/agriculture5041172</td>\n",
       "      <td>https://doaj.org/article/0edc5af6672641c0bd456...</td>\n",
       "      <td>01/11/2015</td>\n",
       "      <td>English</td>\n",
       "      <td>aflatoxins|AFM1|AFB1|milk marketing chains|hep...</td>\n",
       "      <td>2077-0472</td>\n",
       "      <td>MDPI AG</td>\n",
       "      <td>Agriculture (Basel), Vol 5, Iss 4, Pp 1172-118...</td>\n",
       "      <td>CC BY</td>\n",
       "    </tr>\n",
       "    <tr>\n",
       "      <th>2</th>\n",
       "      <td>Metagenomic Analysis of Upwelling-Affected Bra...</td>\n",
       "      <td>Rafael R. C. Cuadrat|Juliano C. Cury|Alberto M...</td>\n",
       "      <td>10.3390/ijms161226101</td>\n",
       "      <td>https://doaj.org/article/d9fe469f75a0442382b84...</td>\n",
       "      <td>01/11/2015</td>\n",
       "      <td>English</td>\n",
       "      <td>PKS|NRPS|metagenomics|environmental genomics|u...</td>\n",
       "      <td>1422-0067</td>\n",
       "      <td>MDPI AG</td>\n",
       "      <td>International Journal of Molecular Sciences, V...</td>\n",
       "      <td>CC BY</td>\n",
       "    </tr>\n",
       "    <tr>\n",
       "      <th>3</th>\n",
       "      <td>Synthesis and Reactivity of a Cerium(III) Scor...</td>\n",
       "      <td>Fabrizio Ortu|Hao Zhu|Marie-Emmanuelle Boulon|...</td>\n",
       "      <td>10.3390/inorganics3040534</td>\n",
       "      <td>https://doaj.org/article/95606ed39deb4f43b96f7...</td>\n",
       "      <td>01/11/2015</td>\n",
       "      <td>EN</td>\n",
       "      <td>lanthanide|cerium|scorpionate|tris(pyrazolyl)b...</td>\n",
       "      <td>2304-6740</td>\n",
       "      <td>MDPI AG</td>\n",
       "      <td>Inorganics (Basel), Vol 3, Iss 4, Pp 534-553 (...</td>\n",
       "      <td>CC BY</td>\n",
       "    </tr>\n",
       "    <tr>\n",
       "      <th>4</th>\n",
       "      <td>Performance and Uncertainty Evaluation of Snow...</td>\n",
       "      <td>Magali Troin|Richard Arsenault|François Brissette</td>\n",
       "      <td>10.3390/hydrology2040289</td>\n",
       "      <td>https://doaj.org/article/18b1d70730d44573ab5c2...</td>\n",
       "      <td>01/11/2015</td>\n",
       "      <td>EN</td>\n",
       "      <td>snow models|hydrological models|snowmelt|uncer...</td>\n",
       "      <td>2306-5338</td>\n",
       "      <td>MDPI AG</td>\n",
       "      <td>Hydrology, Vol 2, Iss 4, Pp 289-317 (2015)</td>\n",
       "      <td>CC BY</td>\n",
       "    </tr>\n",
       "  </tbody>\n",
       "</table>\n",
       "</div>"
      ],
      "text/plain": [
       "                                               Title  \\\n",
       "0   The Fisher Thermodynamics of Quasi-Probabilities   \n",
       "1  Aflatoxin Contamination of the Milk Supply: A ...   \n",
       "2  Metagenomic Analysis of Upwelling-Affected Bra...   \n",
       "3  Synthesis and Reactivity of a Cerium(III) Scor...   \n",
       "4  Performance and Uncertainty Evaluation of Snow...   \n",
       "\n",
       "                                             Authors  \\\n",
       "0                     Flavia Pennini|Angelo Plastino   \n",
       "1                         Naveed Aslam|Peter C. Wynn   \n",
       "2  Rafael R. C. Cuadrat|Juliano C. Cury|Alberto M...   \n",
       "3  Fabrizio Ortu|Hao Zhu|Marie-Emmanuelle Boulon|...   \n",
       "4  Magali Troin|Richard Arsenault|François Brissette   \n",
       "\n",
       "                          DOI  \\\n",
       "0           10.3390/e17127853   \n",
       "1  10.3390/agriculture5041172   \n",
       "2       10.3390/ijms161226101   \n",
       "3   10.3390/inorganics3040534   \n",
       "4    10.3390/hydrology2040289   \n",
       "\n",
       "                                                 URL        Date Language  \\\n",
       "0  https://doaj.org/article/b75e8d5cca3f46cbbd63e...  01/11/2015  English   \n",
       "1  https://doaj.org/article/0edc5af6672641c0bd456...  01/11/2015  English   \n",
       "2  https://doaj.org/article/d9fe469f75a0442382b84...  01/11/2015  English   \n",
       "3  https://doaj.org/article/95606ed39deb4f43b96f7...  01/11/2015       EN   \n",
       "4  https://doaj.org/article/18b1d70730d44573ab5c2...  01/11/2015       EN   \n",
       "\n",
       "                                            Subjects      ISSNs Publisher  \\\n",
       "0  Fisher information|quasi-probabilities|complem...  1099-4300   MDPI AG   \n",
       "1  aflatoxins|AFM1|AFB1|milk marketing chains|hep...  2077-0472   MDPI AG   \n",
       "2  PKS|NRPS|metagenomics|environmental genomics|u...  1422-0067   MDPI AG   \n",
       "3  lanthanide|cerium|scorpionate|tris(pyrazolyl)b...  2304-6740   MDPI AG   \n",
       "4  snow models|hydrological models|snowmelt|uncer...  2306-5338   MDPI AG   \n",
       "\n",
       "                                            Citation Licence  \n",
       "0       Entropy, Vol 17, Iss 12, Pp 7848-7858 (2015)   CC BY  \n",
       "1  Agriculture (Basel), Vol 5, Iss 4, Pp 1172-118...   CC BY  \n",
       "2  International Journal of Molecular Sciences, V...   CC BY  \n",
       "3  Inorganics (Basel), Vol 3, Iss 4, Pp 534-553 (...   CC BY  \n",
       "4         Hydrology, Vol 2, Iss 4, Pp 289-317 (2015)   CC BY  "
      ]
     },
     "execution_count": 26,
     "metadata": {},
     "output_type": "execute_result"
    }
   ],
   "source": [
    "# Get the first 10 rows of data\n",
    "data.head()"
   ]
  },
  {
   "cell_type": "code",
   "execution_count": 29,
   "metadata": {},
   "outputs": [
    {
     "data": {
      "text/html": [
       "<div>\n",
       "<style scoped>\n",
       "    .dataframe tbody tr th:only-of-type {\n",
       "        vertical-align: middle;\n",
       "    }\n",
       "\n",
       "    .dataframe tbody tr th {\n",
       "        vertical-align: top;\n",
       "    }\n",
       "\n",
       "    .dataframe thead th {\n",
       "        text-align: right;\n",
       "    }\n",
       "</style>\n",
       "<table border=\"1\" class=\"dataframe\">\n",
       "  <thead>\n",
       "    <tr style=\"text-align: right;\">\n",
       "      <th></th>\n",
       "      <th>Title</th>\n",
       "      <th>Authors</th>\n",
       "      <th>DOI</th>\n",
       "      <th>URL</th>\n",
       "      <th>Date</th>\n",
       "      <th>Language</th>\n",
       "      <th>Subjects</th>\n",
       "      <th>ISSNs</th>\n",
       "      <th>Publisher</th>\n",
       "      <th>Citation</th>\n",
       "      <th>Licence</th>\n",
       "    </tr>\n",
       "  </thead>\n",
       "  <tbody>\n",
       "    <tr>\n",
       "      <th>996</th>\n",
       "      <td>Crystal structure of [3-(1H-benzimidazol-2-yl)...</td>\n",
       "      <td>Zhimin Liu|Shengrun Zheng|Sisi Feng</td>\n",
       "      <td>10.1107/S2056989014026656</td>\n",
       "      <td>https://doaj.org/article/cb1912c6567f4f99aa0ff...</td>\n",
       "      <td>01/01/2015</td>\n",
       "      <td>EN</td>\n",
       "      <td>crystal structure|3-(1H-benzimidazol-2-yl)prop...</td>\n",
       "      <td>2056-9890</td>\n",
       "      <td>International Union of Crystallography</td>\n",
       "      <td>Acta Crystallographica Section E: Crystallogra...</td>\n",
       "      <td>CC BY</td>\n",
       "    </tr>\n",
       "    <tr>\n",
       "      <th>997</th>\n",
       "      <td>Crystal structure of bis(3-bromopyridine-κN)bi...</td>\n",
       "      <td>Rajni Kant|Gurvinder Kour|Sumati Anthal|Neerup...</td>\n",
       "      <td>10.1107/S2056989014027339</td>\n",
       "      <td>https://doaj.org/article/004df1cd5dfd42e2b78d5...</td>\n",
       "      <td>01/01/2015</td>\n",
       "      <td>EN</td>\n",
       "      <td>Crystal structure|nickel complex|xanthate liga...</td>\n",
       "      <td>2056-9890</td>\n",
       "      <td>International Union of Crystallography</td>\n",
       "      <td>Acta Crystallographica Section E: Crystallogra...</td>\n",
       "      <td>CC BY</td>\n",
       "    </tr>\n",
       "    <tr>\n",
       "      <th>998</th>\n",
       "      <td>Crystal structure of 4,4′-(ethane-1,2-diyl)bis...</td>\n",
       "      <td>Ines Hauptvogel|Wilhelm Seichter|Edwin Weber</td>\n",
       "      <td>10.1107/S2056989014027182</td>\n",
       "      <td>https://doaj.org/article/4f6b74ada72746ba85bbd...</td>\n",
       "      <td>01/01/2015</td>\n",
       "      <td>EN</td>\n",
       "      <td>crystal structure|4,4′-(ethane-1,2-diyl)bis(2,...</td>\n",
       "      <td>2056-9890</td>\n",
       "      <td>International Union of Crystallography</td>\n",
       "      <td>Acta Crystallographica Section E: Crystallogra...</td>\n",
       "      <td>CC BY</td>\n",
       "    </tr>\n",
       "    <tr>\n",
       "      <th>999</th>\n",
       "      <td>Crystal structure of (Z)-4-[1-(4-acetylanilino...</td>\n",
       "      <td>Refaat M. Mahfouz|Zeynep Demircioğlu|Mohamed S...</td>\n",
       "      <td>10.1107/S2056989014026899</td>\n",
       "      <td>https://doaj.org/article/5a5102b0e73d4f2fbc55e...</td>\n",
       "      <td>01/01/2015</td>\n",
       "      <td>EN</td>\n",
       "      <td>crystal structure|Schiff bases|pyrazolone deri...</td>\n",
       "      <td>2056-9890</td>\n",
       "      <td>International Union of Crystallography</td>\n",
       "      <td>Acta Crystallographica Section E: Crystallogra...</td>\n",
       "      <td>CC BY</td>\n",
       "    </tr>\n",
       "    <tr>\n",
       "      <th>1000</th>\n",
       "      <td>Metagenomic Analysis of Upwelling-Affected Bra...</td>\n",
       "      <td>Rafael R. C. Cuadrat|Juliano C. Cury|Alberto M...</td>\n",
       "      <td>10.3390/ijms161226101</td>\n",
       "      <td>https://doaj.org/article/d9fe469f75a0442382b84...</td>\n",
       "      <td>01/11/2015</td>\n",
       "      <td>English</td>\n",
       "      <td>PKS|NRPS|metagenomics|environmental genomics|u...</td>\n",
       "      <td>1422-0067</td>\n",
       "      <td>MDPI AG</td>\n",
       "      <td>International Journal of Molecular Sciences, V...</td>\n",
       "      <td>CC BY</td>\n",
       "    </tr>\n",
       "  </tbody>\n",
       "</table>\n",
       "</div>"
      ],
      "text/plain": [
       "                                                  Title  \\\n",
       "996   Crystal structure of [3-(1H-benzimidazol-2-yl)...   \n",
       "997   Crystal structure of bis(3-bromopyridine-κN)bi...   \n",
       "998   Crystal structure of 4,4′-(ethane-1,2-diyl)bis...   \n",
       "999   Crystal structure of (Z)-4-[1-(4-acetylanilino...   \n",
       "1000  Metagenomic Analysis of Upwelling-Affected Bra...   \n",
       "\n",
       "                                                Authors  \\\n",
       "996                 Zhimin Liu|Shengrun Zheng|Sisi Feng   \n",
       "997   Rajni Kant|Gurvinder Kour|Sumati Anthal|Neerup...   \n",
       "998        Ines Hauptvogel|Wilhelm Seichter|Edwin Weber   \n",
       "999   Refaat M. Mahfouz|Zeynep Demircioğlu|Mohamed S...   \n",
       "1000  Rafael R. C. Cuadrat|Juliano C. Cury|Alberto M...   \n",
       "\n",
       "                            DOI  \\\n",
       "996   10.1107/S2056989014026656   \n",
       "997   10.1107/S2056989014027339   \n",
       "998   10.1107/S2056989014027182   \n",
       "999   10.1107/S2056989014026899   \n",
       "1000      10.3390/ijms161226101   \n",
       "\n",
       "                                                    URL        Date Language  \\\n",
       "996   https://doaj.org/article/cb1912c6567f4f99aa0ff...  01/01/2015       EN   \n",
       "997   https://doaj.org/article/004df1cd5dfd42e2b78d5...  01/01/2015       EN   \n",
       "998   https://doaj.org/article/4f6b74ada72746ba85bbd...  01/01/2015       EN   \n",
       "999   https://doaj.org/article/5a5102b0e73d4f2fbc55e...  01/01/2015       EN   \n",
       "1000  https://doaj.org/article/d9fe469f75a0442382b84...  01/11/2015  English   \n",
       "\n",
       "                                               Subjects      ISSNs  \\\n",
       "996   crystal structure|3-(1H-benzimidazol-2-yl)prop...  2056-9890   \n",
       "997   Crystal structure|nickel complex|xanthate liga...  2056-9890   \n",
       "998   crystal structure|4,4′-(ethane-1,2-diyl)bis(2,...  2056-9890   \n",
       "999   crystal structure|Schiff bases|pyrazolone deri...  2056-9890   \n",
       "1000  PKS|NRPS|metagenomics|environmental genomics|u...  1422-0067   \n",
       "\n",
       "                                   Publisher  \\\n",
       "996   International Union of Crystallography   \n",
       "997   International Union of Crystallography   \n",
       "998   International Union of Crystallography   \n",
       "999   International Union of Crystallography   \n",
       "1000                                 MDPI AG   \n",
       "\n",
       "                                               Citation Licence  \n",
       "996   Acta Crystallographica Section E: Crystallogra...   CC BY  \n",
       "997   Acta Crystallographica Section E: Crystallogra...   CC BY  \n",
       "998   Acta Crystallographica Section E: Crystallogra...   CC BY  \n",
       "999   Acta Crystallographica Section E: Crystallogra...   CC BY  \n",
       "1000  International Journal of Molecular Sciences, V...   CC BY  "
      ]
     },
     "execution_count": 29,
     "metadata": {},
     "output_type": "execute_result"
    }
   ],
   "source": [
    "# Get the last 10 rows of data from CrossRef csv\n",
    "data.tail()"
   ]
  },
  {
   "cell_type": "code",
   "execution_count": 30,
   "metadata": {},
   "outputs": [
    {
     "data": {
      "text/plain": [
       "Licence\n",
       "CC BY          954\n",
       "CC BY-NC        11\n",
       "CC BY-NC-ND     30\n",
       "dtype: int64"
      ]
     },
     "execution_count": 30,
     "metadata": {},
     "output_type": "execute_result"
    }
   ],
   "source": [
    "# Get the count of licenses by type\n",
    "data.groupby(['Licence']).size()"
   ]
  },
  {
   "cell_type": "code",
   "execution_count": 31,
   "metadata": {},
   "outputs": [
    {
     "data": {
      "text/plain": [
       "(1001, 11)"
      ]
     },
     "execution_count": 31,
     "metadata": {},
     "output_type": "execute_result"
    }
   ],
   "source": [
    "# Get the shape of the data, number of rows and columns\n",
    "data.shape"
   ]
  },
  {
   "cell_type": "code",
   "execution_count": 33,
   "metadata": {},
   "outputs": [
    {
     "data": {
      "text/plain": [
       "<matplotlib.axes._subplots.AxesSubplot at 0x11406fb00>"
      ]
     },
     "execution_count": 33,
     "metadata": {},
     "output_type": "execute_result"
    },
    {
     "data": {
      "image/png": "[encoded data removed]",
      "text/plain": [
       "<matplotlib.figure.Figure at 0x11a7a3978>"
      ]
     },
     "metadata": {},
     "output_type": "display_data"
    }
   ],
   "source": [
    "# Plot number of licenses by type\n",
    "data.groupby(['Licence']).size().plot(kind='bar')"
   ]
  },
  {
   "cell_type": "markdown",
   "metadata": {},
   "source": [
    "For a nice tutorial on Pandas and Bokeh, see:\n",
    "https://programminghistorian.org/en/lessons/visualizing-with-bokeh"
   ]
  },
  {
   "cell_type": "code",
   "execution_count": 23,
   "metadata": {},
   "outputs": [
    {
     "name": "stdout",
     "output_type": "stream",
     "text": [
      "Collecting plotly\n",
      "  Downloading https://files.pythonhosted.org/packages/25/e6/716d30f51604daedaf12b1064e1d1e48d1c0a224ac41a83496b39862124d/plotly-3.2.1-py2.py3-none-any.whl (37.0MB)\n",
      "\u001b[K    100% |████████████████████████████████| 37.0MB 34kB/s eta 0:00:011\n",
      "\u001b[?25hCollecting retrying>=1.3.3 (from plotly)\n",
      "  Downloading https://files.pythonhosted.org/packages/44/ef/beae4b4ef80902f22e3af073397f079c96969c69b2c7d52a57ea9ae61c9d/retrying-1.3.3.tar.gz\n",
      "Requirement already satisfied: pytz in /anaconda3/lib/python3.6/site-packages (from plotly)\n",
      "Requirement already satisfied: nbformat>=4.2 in /anaconda3/lib/python3.6/site-packages (from plotly)\n",
      "Requirement already satisfied: decorator>=4.0.6 in /anaconda3/lib/python3.6/site-packages (from plotly)\n",
      "Requirement already satisfied: requests in /anaconda3/lib/python3.6/site-packages (from plotly)\n",
      "Requirement already satisfied: six in /anaconda3/lib/python3.6/site-packages (from plotly)\n",
      "Requirement already satisfied: ipython_genutils in /anaconda3/lib/python3.6/site-packages (from nbformat>=4.2->plotly)\n",
      "Requirement already satisfied: traitlets>=4.1 in /anaconda3/lib/python3.6/site-packages (from nbformat>=4.2->plotly)\n",
      "Requirement already satisfied: jsonschema!=2.5.0,>=2.4 in /anaconda3/lib/python3.6/site-packages (from nbformat>=4.2->plotly)\n",
      "Requirement already satisfied: jupyter_core in /anaconda3/lib/python3.6/site-packages (from nbformat>=4.2->plotly)\n",
      "Requirement already satisfied: chardet<3.1.0,>=3.0.2 in /anaconda3/lib/python3.6/site-packages (from requests->plotly)\n",
      "Requirement already satisfied: idna<2.7,>=2.5 in /anaconda3/lib/python3.6/site-packages (from requests->plotly)\n",
      "Requirement already satisfied: urllib3<1.23,>=1.21.1 in /anaconda3/lib/python3.6/site-packages (from requests->plotly)\n",
      "Requirement already satisfied: certifi>=2017.4.17 in /anaconda3/lib/python3.6/site-packages (from requests->plotly)\n",
      "Building wheels for collected packages: retrying\n",
      "  Running setup.py bdist_wheel for retrying ... \u001b[?25ldone\n",
      "\u001b[?25h  Stored in directory: /Users/cerdmann/Library/Caches/pip/wheels/d7/a9/33/acc7b709e2a35caa7d4cae442f6fe6fbf2c43f80823d46460c\n",
      "Successfully built retrying\n",
      "Installing collected packages: retrying, plotly\n",
      "Successfully installed plotly-3.2.1 retrying-1.3.3\n",
      "\u001b[33mYou are using pip version 9.0.1, however version 18.0 is available.\n",
      "You should consider upgrading via the 'pip install --upgrade pip' command.\u001b[0m\n"
     ]
    }
   ],
   "source": [
    "# Example of installing Python module\n",
    "!pip install plotly"
   ]
  },
  {
   "cell_type": "code",
   "execution_count": 66,
   "metadata": {},
   "outputs": [],
   "source": [
    "import requests\n",
    "import json"
   ]
  },
  {
   "cell_type": "code",
   "execution_count": 67,
   "metadata": {},
   "outputs": [
    {
     "name": "stdout",
     "output_type": "stream",
     "text": [
      "{\"status\":\"ok\",\"message-type\":\"journal\",\"message-version\":\"1.0.0\",\"message\":{\"last-status-check-time\":1537311111267,\"counts\":{\"total-dois\":3583,\"current-dois\":1850,\"backfile-dois\":1733},\"breakdowns\":{\"dois-by-issued-year\":[[2018,697],[2017,694],[2016,459],[2015,453],[2014,328],[2013,284],[2012,137],[2010,119],[2011,101],[2009,69],[2008,56],[2003,39],[2004,33],[2001,21],[2005,20],[2006,18],[2007,17],[1999,16],[2000,12],[2002,10]]},\"publisher\":\"MDPI AG\",\"coverage\":{\"affiliations-current\":0.0,\"similarity-checking-current\":0.999459445476532,\"funders-backfile\":0.06231967732310295,\"licenses-backfile\":0.9976918697357178,\"funders-current\":0.26972973346710205,\"affiliations-backfile\":0.0,\"resource-links-backfile\":0.0,\"orcids-backfile\":0.00865551084280014,\"update-policies-current\":0.0,\"open-references-backfile\":1.0,\"orcids-current\":0.36918920278549194,\"similarity-checking-backfile\":0.9976918697357178,\"references-backfile\":0.9699942469596863,\"award-numbers-backfile\":0.06116560846567154,\"update-policies-backfile\":0.0,\"licenses-current\":0.999459445476532,\"award-numbers-current\":0.2572973072528839,\"abstracts-backfile\":0.0,\"resource-links-current\":0.0,\"abstracts-current\":0.10378378629684448,\"open-references-current\":1.0,\"references-current\":0.9897297024726868},\"title\":\"Entropy\",\"subjects\":[{\"name\":\"General Physics and Astronomy\",\"ASJC\":3100}],\"coverage-type\":{\"all\":{\"last-status-check-time\":1537311109329,\"affiliations\":0.0,\"abstracts\":0.0535714291036129,\"orcids\":0.1947544664144516,\"licenses\":0.9983258843421936,\"references\":0.9799107313156128,\"funders\":0.1693638414144516,\"similarity-checking\":0.9983258843421936,\"award-numbers\":0.1623883992433548,\"update-policies\":0.0,\"resource-links\":0.0,\"open-references\":1.0},\"backfile\":{\"last-status-check-time\":1537311108830,\"affiliations\":0.0,\"abstracts\":0.0,\"orcids\":0.00865551084280014,\"licenses\":0.9976918697357178,\"references\":0.9699942469596863,\"funders\":0.06231967732310295,\"similarity-checking\":0.9976918697357178,\"award-numbers\":0.06116560846567154,\"update-policies\":0.0,\"resource-links\":0.0,\"open-references\":1.0},\"current\":{\"last-status-check-time\":1537311108125,\"affiliations\":0.0,\"abstracts\":0.10378378629684448,\"orcids\":0.36918920278549194,\"licenses\":0.999459445476532,\"references\":0.9897297024726868,\"funders\":0.26972973346710205,\"similarity-checking\":0.999459445476532,\"award-numbers\":0.2572973072528839,\"update-policies\":0.0,\"resource-links\":0.0,\"open-references\":1.0}},\"flags\":{\"deposits-abstracts-current\":true,\"deposits-orcids-current\":true,\"deposits\":true,\"deposits-affiliations-backfile\":false,\"deposits-update-policies-backfile\":false,\"deposits-similarity-checking-backfile\":true,\"deposits-award-numbers-current\":true,\"deposits-resource-links-current\":false,\"deposits-articles\":true,\"deposits-affiliations-current\":false,\"deposits-funders-current\":true,\"deposits-references-backfile\":true,\"deposits-abstracts-backfile\":false,\"deposits-licenses-backfile\":true,\"deposits-award-numbers-backfile\":true,\"deposits-open-references-backfile\":true,\"deposits-open-references-current\":true,\"deposits-references-current\":true,\"deposits-resource-links-backfile\":false,\"deposits-orcids-backfile\":true,\"deposits-funders-backfile\":true,\"deposits-update-policies-current\":false,\"deposits-similarity-checking-current\":true,\"deposits-licenses-current\":true},\"ISSN\":[\"1099-4300\"],\"issn-type\":[{\"value\":\"1099-4300\",\"type\":\"electronic\"}]}}\n"
     ]
    }
   ],
   "source": [
    "crossref_url = 'http://api.crossref.org/journals/1099-4300'\n",
    "response = requests.get(crossref_url)\n",
    "print(response.text)"
   ]
  },
  {
   "cell_type": "code",
   "execution_count": 68,
   "metadata": {},
   "outputs": [],
   "source": [
    "json_data = json.loads(response.text)"
   ]
  },
  {
   "cell_type": "code",
   "execution_count": 69,
   "metadata": {},
   "outputs": [
    {
     "name": "stdout",
     "output_type": "stream",
     "text": [
      "Pretty printing has been turned ON\n"
     ]
    }
   ],
   "source": [
    "pprint(json_data)"
   ]
  },
  {
   "cell_type": "code",
   "execution_count": 70,
   "metadata": {},
   "outputs": [
    {
     "name": "stdout",
     "output_type": "stream",
     "text": [
      "MDPI AG\n"
     ]
    }
   ],
   "source": [
    "print(json_data['message']['publisher'])"
   ]
  },
  {
   "cell_type": "code",
   "execution_count": 71,
   "metadata": {},
   "outputs": [
    {
     "name": "stdout",
     "output_type": "stream",
     "text": [
      "/Users/cerdmann\r\n"
     ]
    }
   ],
   "source": [
    "# Command line example, print working directory\n",
    "!pwd"
   ]
  },
  {
   "cell_type": "code",
   "execution_count": 72,
   "metadata": {},
   "outputs": [
    {
     "name": "stdout",
     "output_type": "stream",
     "text": [
      "\u001b[34mAnacondaProjects\u001b[m\u001b[m     \u001b[34mDownloads\u001b[m\u001b[m            \u001b[34mPictures\u001b[m\u001b[m\r\n",
      "\u001b[34mApplications\u001b[m\u001b[m         \u001b[34mLibrary\u001b[m\u001b[m              \u001b[34mPublic\u001b[m\u001b[m\r\n",
      "\u001b[34mBox Sync\u001b[m\u001b[m             \u001b[34mMovies\u001b[m\u001b[m               \u001b[34mZotero\u001b[m\u001b[m\r\n",
      "\u001b[34mDesktop\u001b[m\u001b[m              \u001b[34mMusic\u001b[m\u001b[m                \u001b[34mstudio-link\u001b[m\u001b[m\r\n",
      "\u001b[34mDocuments\u001b[m\u001b[m            Pandas Example.ipynb\r\n"
     ]
    }
   ],
   "source": [
    "# Command line example, list files\n",
    "!ls"
   ]
  },
  {
   "cell_type": "code",
   "execution_count": 77,
   "metadata": {},
   "outputs": [],
   "source": [
    "# Command line example, create a file\n",
    "!touch abc.txt"
   ]
  },
  {
   "cell_type": "code",
   "execution_count": null,
   "metadata": {},
   "outputs": [],
   "source": []
  }
 ],
 "metadata": {
  "kernelspec": {
   "display_name": "Python 3",
   "language": "python",
   "name": "python3"
  },
  "language_info": {
   "codemirror_mode": {
    "name": "ipython",
    "version": 3
   },
   "file_extension": ".py",
   "mimetype": "text/x-python",
   "name": "python",
   "nbconvert_exporter": "python",
   "pygments_lexer": "ipython3",
   "version": "3.6.4"
  }
 },
 "nbformat": 4,
 "nbformat_minor": 2
}
